{
 "cells": [
  {
   "metadata": {},
   "cell_type": "code",
   "outputs": [],
   "execution_count": null,
   "source": "",
   "id": "c939bf2d0b9322cb"
  },
  {
   "metadata": {},
   "cell_type": "markdown",
   "source": [
    "# notebooks/analysis.ipynb (结构草稿)\n",
    "# Markdown:\n",
    "# # 多源路径推荐与交通拥堵分析\n",
    "# ## 路径对比、天气因素、POI密度影响\n",
    "\n",
    "# Code cell:\n",
    "# import pandas as pd\n",
    "# import matplotlib.pyplot as plt\n",
    "# import seaborn as sns\n",
    "# df = pd.read_csv(\"../data/processed/route_comparison.csv\")\n",
    "# df.head()\n",
    "\n",
    "# Code cell:\n",
    "# sns.boxplot(data=df, x=\"platform\", y=\"duration_min\")\n",
    "# plt.title(\"路径耗时对比\")"
   ],
   "id": "904e03cd69116c17"
  }
 ],
 "metadata": {},
 "nbformat": 4,
 "nbformat_minor": 5
}
